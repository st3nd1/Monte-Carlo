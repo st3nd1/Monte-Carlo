{
 "cells": [
  {
   "cell_type": "code",
   "execution_count": null,
   "metadata": {
    "vscode": {
     "languageId": "r"
    }
   },
   "outputs": [],
   "source": [
    "# Bibliotecas\n",
    "install.packages(c(\"tidyverse\", \"fitdistrplus\", \"kableExtra\", \"vcd\", \"readxl\"))\n",
    "library(tidyverse)\n",
    "library(ggplot2)\n",
    "library(fitdistrplus)\n",
    "library(knitr)\n",
    "library(kableExtra)\n",
    "library(vcd)\n",
    "library(readxl)"
   ]
  },
  {
   "cell_type": "code",
   "execution_count": 4,
   "metadata": {
    "vscode": {
     "languageId": "r"
    }
   },
   "outputs": [],
   "source": [
    "# Lendo o arquivo\n",
    "df <- read_excel(\"insurance_claims.xlsx\")"
   ]
  },
  {
   "cell_type": "code",
   "execution_count": null,
   "metadata": {
    "vscode": {
     "languageId": "r"
    }
   },
   "outputs": [],
   "source": [
    "# Selecionado colunas certas\n",
    "carteira <- df[c(4, 31)]\n",
    "carteira$date_of_accident <- as.Date(carteira$date_of_accident)\n",
    "carteira$ano <- format(carteira$date_of_accident, \"%Y\")\n",
    "\n",
    "# Agrupando por ano\n",
    "carteira_agrupada <- carteira %>%\n",
    "  group_by(ano) %>%\n",
    "  summarise(\n",
    "    total_por_ano = sum(total_claim_amount),\n",
    "    quantidade_sinistros = n()\n",
    "  ); carteira_agrupada"
   ]
  },
  {
   "cell_type": "code",
   "execution_count": 18,
   "metadata": {
    "vscode": {
     "languageId": "r"
    }
   },
   "outputs": [
    {
     "data": {
      "image/png": "[encoded data removed]",
      "text/plain": [
       "plot without title"
      ]
     },
     "metadata": {
      "image/png": {
       "height": 420,
       "width": 420
      }
     },
     "output_type": "display_data"
    },
    {
     "data": {
      "image/png": "[encoded data removed]",
      "text/plain": [
       "plot without title"
      ]
     },
     "metadata": {
      "image/png": {
       "height": 420,
       "width": 420
      }
     },
     "output_type": "display_data"
    }
   ],
   "source": [
    "# Histograma total por ano\n",
    "ggplot(carteira_agrupada, aes(x = total_por_ano)) +\n",
    "  geom_histogram(fill = \"#1f77b4\", color = \"white\", bins = 20) +\n",
    "  labs(\n",
    "    title = \"Severidade por Ano\",\n",
    "    x = \"Valor total (R$)\",\n",
    "    y = \"Frequência\"\n",
    "  ) +\n",
    "  theme_minimal()\n",
    "\n",
    "# Histograma quantidade de sinsitros por ano\n",
    "ggplot(carteira_agrupada, aes(x = quantidade_sinistros)) +\n",
    "  geom_histogram(fill = \"#ff7f0e\", color = \"white\", bins = 20) +\n",
    "  labs(\n",
    "    title = \"Distribuição da frequencia de sinistros por ano\",\n",
    "    x = \"Número de Sinistros\",\n",
    "    y = \"Frequência\"\n",
    "  ) +\n",
    "  theme_minimal()"
   ]
  },
  {
   "cell_type": "code",
   "execution_count": 19,
   "metadata": {
    "vscode": {
     "languageId": "r"
    }
   },
   "outputs": [
    {
     "data": {
      "text/html": [
       "<table class=\"dataframe\">\n",
       "<caption>A tibble: 1 × 6</caption>\n",
       "<thead>\n",
       "\t<tr><th scope=col>media_severidade</th><th scope=col>var_severidade</th><th scope=col>dp_severidade</th><th scope=col>media_qnt_sinistro</th><th scope=col>var_qnt_sinistros</th><th scope=col>dp_qnt_sinistros</th></tr>\n",
       "\t<tr><th scope=col>&lt;dbl&gt;</th><th scope=col>&lt;dbl&gt;</th><th scope=col>&lt;dbl&gt;</th><th scope=col>&lt;dbl&gt;</th><th scope=col>&lt;dbl&gt;</th><th scope=col>&lt;dbl&gt;</th></tr>\n",
       "</thead>\n",
       "<tbody>\n",
       "\t<tr><td>2029305</td><td>249969858594</td><td>499969.9</td><td>38.46154</td><td>88.81846</td><td>9.424355</td></tr>\n",
       "</tbody>\n",
       "</table>\n"
      ],
      "text/latex": [
       "A tibble: 1 × 6\n",
       "\\begin{tabular}{llllll}\n",
       " media\\_severidade & var\\_severidade & dp\\_severidade & media\\_qnt\\_sinistro & var\\_qnt\\_sinistros & dp\\_qnt\\_sinistros\\\\\n",
       " <dbl> & <dbl> & <dbl> & <dbl> & <dbl> & <dbl>\\\\\n",
       "\\hline\n",
       "\t 2029305 & 249969858594 & 499969.9 & 38.46154 & 88.81846 & 9.424355\\\\\n",
       "\\end{tabular}\n"
      ],
      "text/markdown": [
       "\n",
       "A tibble: 1 × 6\n",
       "\n",
       "| media_severidade &lt;dbl&gt; | var_severidade &lt;dbl&gt; | dp_severidade &lt;dbl&gt; | media_qnt_sinistro &lt;dbl&gt; | var_qnt_sinistros &lt;dbl&gt; | dp_qnt_sinistros &lt;dbl&gt; |\n",
       "|---|---|---|---|---|---|\n",
       "| 2029305 | 249969858594 | 499969.9 | 38.46154 | 88.81846 | 9.424355 |\n",
       "\n"
      ],
      "text/plain": [
       "  media_severidade var_severidade dp_severidade media_qnt_sinistro\n",
       "1 2029305          249969858594   499969.9      38.46154          \n",
       "  var_qnt_sinistros dp_qnt_sinistros\n",
       "1 88.81846          9.424355        "
      ]
     },
     "metadata": {},
     "output_type": "display_data"
    }
   ],
   "source": [
    "# Obtendo estatísticas\n",
    "estatisticas <- carteira_agrupada %>%\n",
    "  summarise(\n",
    "    media_severidade = mean(total_por_ano, na.rm = TRUE),\n",
    "    var_severidade = var(total_por_ano, na.rm = TRUE),\n",
    "    dp_severidade = sd(total_por_ano, na.rm = TRUE),\n",
    "    media_qnt_sinistro = mean(quantidade_sinistros, na.rm = TRUE),\n",
    "    var_qnt_sinistros = var(quantidade_sinistros, na.rm = TRUE),\n",
    "    dp_qnt_sinistros = sd(quantidade_sinistros, na.rm = TRUE)\n",
    "  ); estatisticas"
   ]
  },
  {
   "cell_type": "code",
   "execution_count": 22,
   "metadata": {
    "vscode": {
     "languageId": "r"
    }
   },
   "outputs": [
    {
     "name": "stderr",
     "output_type": "stream",
     "text": [
      "Warning message in ks.test.default(dados, \"ppois\", lambda = lambda):\n",
      "\"não devem existir empates no teste de Kolmogorov-Smirnov de apenas uma amostra\"\n",
      "Warning message in ks.test.default(dados, \"pnbinom\", size = size, mu = mu):\n",
      "\"não devem existir empates no teste de Kolmogorov-Smirnov de apenas uma amostra\"\n",
      "Warning message in ks.test.default(dados, \"pgeom\", prob = prob_geom):\n",
      "\"não devem existir empates no teste de Kolmogorov-Smirnov de apenas uma amostra\"\n"
     ]
    },
    {
     "data": {
      "text/html": [
       "<table class=\"dataframe\">\n",
       "<caption>A data.frame: 3 × 2</caption>\n",
       "<thead>\n",
       "\t<tr><th scope=col>Distribuição</th><th scope=col>P_Value</th></tr>\n",
       "\t<tr><th scope=col>&lt;chr&gt;</th><th scope=col>&lt;dbl&gt;</th></tr>\n",
       "</thead>\n",
       "<tbody>\n",
       "\t<tr><td>Poisson          </td><td>3.944839e-01</td></tr>\n",
       "\t<tr><td>Binomial Negativa</td><td>1.886494e-01</td></tr>\n",
       "\t<tr><td>Geométrica       </td><td>2.635198e-06</td></tr>\n",
       "</tbody>\n",
       "</table>\n"
      ],
      "text/latex": [
       "A data.frame: 3 × 2\n",
       "\\begin{tabular}{ll}\n",
       " Distribuição & P\\_Value\\\\\n",
       " <chr> & <dbl>\\\\\n",
       "\\hline\n",
       "\t Poisson           & 3.944839e-01\\\\\n",
       "\t Binomial Negativa & 1.886494e-01\\\\\n",
       "\t Geométrica        & 2.635198e-06\\\\\n",
       "\\end{tabular}\n"
      ],
      "text/markdown": [
       "\n",
       "A data.frame: 3 × 2\n",
       "\n",
       "| Distribuição &lt;chr&gt; | P_Value &lt;dbl&gt; |\n",
       "|---|---|\n",
       "| Poisson           | 3.944839e-01 |\n",
       "| Binomial Negativa | 1.886494e-01 |\n",
       "| Geométrica        | 2.635198e-06 |\n",
       "\n"
      ],
      "text/plain": [
       "  Distribuição      P_Value     \n",
       "1 Poisson           3.944839e-01\n",
       "2 Binomial Negativa 1.886494e-01\n",
       "3 Geométrica        2.635198e-06"
      ]
     },
     "metadata": {},
     "output_type": "display_data"
    }
   ],
   "source": [
    "# Testes de aderência (uma amostra) para frequênica de sinistros\n",
    "dados <- carteira_agrupada$quantidade_sinistros\n",
    "\n",
    "# Parametros das distribuições pelo método da maximaverossimilhança\n",
    "ajuste_pois <- fitdist(dados, \"pois\", method = \"mle\")\n",
    "lambda <- ajuste_pois$estimate\n",
    "\n",
    "ajuste_nbinom <- fitdist(dados, \"nbinom\", method = \"mle\")\n",
    "size <- ajuste_nbinom$estimate[\"size\"]\n",
    "mu <- ajuste_nbinom$estimate[\"mu\"]\n",
    "\n",
    "ajuste_geom <- fitdist(dados, \"geom\", method = \"mle\")\n",
    "prob_geom <- ajuste_geom$estimate\n",
    "\n",
    "# Teste KS\n",
    "ks_pois <- ks.test(dados, \"ppois\", lambda = lambda)\n",
    "ks_nbinom <- ks.test(dados, \"pnbinom\", size = size, mu = mu)\n",
    "ks_geom <- ks.test(dados, \"pgeom\", prob = prob_geom)\n",
    "\n",
    "# Tabela de resultados KS\n",
    "resultados_ks <- data.frame(\n",
    "  Distribuição = c(\"Poisson\", \"Binomial Negativa\", \"Geométrica\"),\n",
    "  P_Value = c(ks_pois$p.value, ks_nbinom$p.value, ks_geom$p.value)\n",
    "); resultados_ks\n",
    "\n",
    "# Escolha da binomal negativa, dado o p-value e var > mean"
   ]
  },
  {
   "cell_type": "code",
   "execution_count": null,
   "metadata": {
    "vscode": {
     "languageId": "r"
    }
   },
   "outputs": [
    {
     "data": {
      "text/html": [
       "<table class=\"dataframe\">\n",
       "<caption>A data.frame: 3 × 2</caption>\n",
       "<thead>\n",
       "\t<tr><th scope=col>distribuição</th><th scope=col>p_Value</th></tr>\n",
       "\t<tr><th scope=col>&lt;chr&gt;</th><th scope=col>&lt;dbl&gt;</th></tr>\n",
       "</thead>\n",
       "<tbody>\n",
       "\t<tr><td>Normal     </td><td>3.256682e-01</td></tr>\n",
       "\t<tr><td>Exponencial</td><td>1.252903e-06</td></tr>\n",
       "\t<tr><td>Gamma      </td><td>2.133919e-02</td></tr>\n",
       "</tbody>\n",
       "</table>\n"
      ],
      "text/latex": [
       "A data.frame: 3 × 2\n",
       "\\begin{tabular}{ll}\n",
       " distribuição & p\\_Value\\\\\n",
       " <chr> & <dbl>\\\\\n",
       "\\hline\n",
       "\t Normal      & 3.256682e-01\\\\\n",
       "\t Exponencial & 1.252903e-06\\\\\n",
       "\t Gamma       & 2.133919e-02\\\\\n",
       "\\end{tabular}\n"
      ],
      "text/markdown": [
       "\n",
       "A data.frame: 3 × 2\n",
       "\n",
       "| distribuição &lt;chr&gt; | p_Value &lt;dbl&gt; |\n",
       "|---|---|\n",
       "| Normal      | 3.256682e-01 |\n",
       "| Exponencial | 1.252903e-06 |\n",
       "| Gamma       | 2.133919e-02 |\n",
       "\n"
      ],
      "text/plain": [
       "  distribuição p_Value     \n",
       "1 Normal       3.256682e-01\n",
       "2 Exponencial  1.252903e-06\n",
       "3 Gamma        2.133919e-02"
      ]
     },
     "metadata": {},
     "output_type": "display_data"
    }
   ],
   "source": [
    "# Testes de aderênica (uma amostra) para severidade\n",
    "dados <- carteira_agrupada$total_por_ano\n",
    "\n",
    "# Estimação dos paramatros das dsitribuições pelo método dos momentos\n",
    "params_norm <- fitdist(dados, \"norm\")\n",
    "mu <- params_norm$estimate[1]\n",
    "sigma <- params_norm$estimate[2]\n",
    "\n",
    "params_exp <- fitdist(dados, \"exp\")\n",
    "lambda <- params_exp$estimate\n",
    "\n",
    "params_gamma <- fitdist(dados, \"gamma\", method = \"mle\")\n",
    "shape <- params_gamma$estimate[1]\n",
    "rate <- params_gamma$estimate[2]\n",
    "\n",
    "# Teste KS\n",
    "ks_norm <- ks.test(dados, \"pnorm\", mean = mu, sd = sigma)\n",
    "ks_exp <- ks.test(dados, \"pexp\", rate = lambda)\n",
    "ks_gamma <- ks.test(dados, \"pgamma\", shape = shape, rate = rate)\n",
    "\n",
    "# Resultados KS\n",
    "resultados_ks <- data.frame(\n",
    "  distribuição = c(\"Normal\", \"Exponencial\", \"Gamma\"),\n",
    "  p_Value = c(ks_norm$p.value, ks_exp$p.value, ks_gamma$p.value)\n",
    "); resultados_ks\n",
    "\n",
    "# Escolha da normal, dado que o p-value e estatisticas"
   ]
  },
  {
   "cell_type": "code",
   "execution_count": 24,
   "metadata": {
    "vscode": {
     "languageId": "r"
    }
   },
   "outputs": [
    {
     "name": "stderr",
     "output_type": "stream",
     "text": [
      "Warning message:\n",
      "\"\u001b[1m\u001b[22mThe dot-dot notation (`..density..`) was deprecated in ggplot2 3.4.0.\n",
      "\u001b[36mℹ\u001b[39m Please use `after_stat(density)` instead.\"\n"
     ]
    },
    {
     "data": {
      "image/png": "[encoded data removed]",
      "text/plain": [
       "plot without title"
      ]
     },
     "metadata": {
      "image/png": {
       "height": 420,
       "width": 420
      }
     },
     "output_type": "display_data"
    }
   ],
   "source": [
    "# Plot de densidade comparativa\n",
    "ggplot(data.frame(x = dados), aes(x = x)) +\n",
    "  geom_histogram(aes(y = ..density..), fill = \"#999999\", bins = 10) + \n",
    "  stat_function(fun = dnorm, args = list(mean = mu, sd = sigma), color = \"#cd1515\") +\n",
    "  stat_function(fun = dexp, args = list(rate = lambda), color = \"#e31ad6\") +\n",
    "  stat_function(fun = dgamma, args = list(shape = shape, rate = rate), color = \"purple\") +\n",
    "  labs(title = \"Ajuste de distribuições\", x = \"Severidade por ano\", y = \"Densidade\") +\n",
    "  theme_linedraw()"
   ]
  },
  {
   "cell_type": "code",
   "execution_count": null,
   "metadata": {
    "vscode": {
     "languageId": "r"
    }
   },
   "outputs": [
    {
     "data": {
      "image/png": "[encoded data removed]",
      "text/plain": [
       "plot without title"
      ]
     },
     "metadata": {
      "image/png": {
       "height": 420,
       "width": 420
      }
     },
     "output_type": "display_data"
    },
    {
     "data": {
      "image/png": "[encoded data removed]",
      "text/plain": [
       "plot without title"
      ]
     },
     "metadata": {
      "image/png": {
       "height": 420,
       "width": 420
      }
     },
     "output_type": "display_data"
    }
   ],
   "source": [
    "# Ajustar distribuição normal para 'total_por_ano'\n",
    "ajuste_norm <- fitdist(carteira_agrupada$total_por_ano, \"norm\")\n",
    "mu <- ajuste_norm$estimate[1]\n",
    "sigma <- ajuste_norm$estimate[2]\n",
    "\n",
    "# Ajustar distribuição binomial negativa para 'quantidade_sinistros'\n",
    "ajuste_nbinom <- fitdist(carteira_agrupada$quantidade_sinistros, \"nbinom\")\n",
    "size <- ajuste_nbinom$estimate[\"size\"]\n",
    "mu_nbinom <- ajuste_nbinom$estimate[\"mu\"]\n",
    "\n",
    "set.seed(42) \n",
    "\n",
    "sim_total <- rnorm(n = 1000, mean = mu, sd = sigma)\n",
    "sim_quantidade <- rnbinom(n = 1000, size = size, mu = mu_nbinom)\n",
    "\n",
    "# Criar dataframe com as simulações\n",
    "simulacoes <- data.frame(\n",
    "  total_por_ano = sim_total,\n",
    "  quantidade_sinistros = sim_quantidade\n",
    ")\n",
    "# Histograma para total_por_ano\n",
    "ggplot(simulacoes, aes(x = total_por_ano)) +\n",
    "  geom_histogram(fill = \"skyblue\", color = \"black\", bins = 30) +\n",
    "  labs(title = \"Simulação de Monte Carlo (Severidade - Normal)\",\n",
    "       x = \"Total Pago\", y = \"Frequência\") +\n",
    "  theme_minimal()\n",
    "\n",
    "# Histograma para quantidade_sinistros\n",
    "ggplot(simulacoes, aes(x = quantidade_sinistros)) +\n",
    "  geom_histogram(fill = \"salmon\", color = \"black\", bins = 15) +\n",
    "  labs(title = \"Simulação de Monte Carlo (Frequênica de Sinistros - Binomial Negativa)\",\n",
    "       x = \"Número de Sinistros\", y = \"Frequência\") +\n",
    "  theme_minimal()\n",
    "\n"
   ]
  },
  {
   "cell_type": "code",
   "execution_count": 21,
   "metadata": {
    "vscode": {
     "languageId": "r"
    }
   },
   "outputs": [
    {
     "data": {
      "text/html": [
       "77354456.6752968"
      ],
      "text/latex": [
       "77354456.6752968"
      ],
      "text/markdown": [
       "77354456.6752968"
      ],
      "text/plain": [
       "[1] 77354457"
      ]
     },
     "metadata": {},
     "output_type": "display_data"
    },
    {
     "data": {
      "text/html": [
       "85089902.3428265"
      ],
      "text/latex": [
       "85089902.3428265"
      ],
      "text/markdown": [
       "85089902.3428265"
      ],
      "text/plain": [
       "[1] 85089902"
      ]
     },
     "metadata": {},
     "output_type": "display_data"
    }
   ],
   "source": [
    "# Precificando a partir das simulações\n",
    "\n",
    "# Premio de risco\n",
    "E <- mean(simulacoes$total_por_ano)*mean(simulacoes$quantidade_sinistros)\n",
    "pr <- E; pr\n",
    "\n",
    "# Premio puro\n",
    "theta <- 0.1\n",
    "pp <- E*(1+theta); pp"
   ]
  }
 ],
 "metadata": {
  "kernelspec": {
   "display_name": "R",
   "language": "R",
   "name": "ir"
  },
  "language_info": {
   "codemirror_mode": "r",
   "file_extension": ".r",
   "mimetype": "text/x-r-source",
   "name": "R",
   "pygments_lexer": "r",
   "version": "4.4.2"
  }
 },
 "nbformat": 4,
 "nbformat_minor": 2
}
